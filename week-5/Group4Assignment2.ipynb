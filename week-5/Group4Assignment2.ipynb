{
 "cells": [
  {
   "cell_type": "markdown",
   "metadata": {},
   "source": [
    "# Data Analysis Mathematics, Algorithms and Modeling\n",
    "\n",
    "## Team Information - **Group Presentation 2**\n",
    "\n",
    "**Team Members**\n",
    "\n",
    "Name: Ayush Patel  \n",
    "Student Number: 9033358\n",
    "\n",
    "Name: Nikhil Shankar  \n",
    "Student Number: 9026254\n",
    "\n",
    "Name: Sreehari Prathap  \n",
    "Student Number: 8903199\n"
   ]
  },
  {
   "cell_type": "markdown",
   "metadata": {},
   "source": [
    "## Step 1: Install and Configure the IDE (e.g., Jupyter Notebook and VS Code)\n",
    "- Install Anaconda (for Jupyter Notebook) and Visual Studio Code (VS Code).\n",
    "  - Anaconda: Visit [anaconda.com](https://www.anaconda.com/products/individual) and download the appropriate installer for your operating system.\n",
    "  - VS Code: Download and install from [Visual Studio Code](https://code.visualstudio.com/).\n",
    "- Install Pandas Library\n",
    "  - Open the terminal and run the following command: `pip install pandas`"
   ]
  },
  {
   "cell_type": "markdown",
   "metadata": {},
   "source": [
    "## Dataset 1 : Salary Data\n",
    "We are using the Salary_Data dataset from [Kaggle], which can be downloaded directly via the link:\n",
    "- URL: [https://www.kaggle.com/datasets/mohithsairamreddy/salary-data]"
   ]
  },
  {
   "cell_type": "markdown",
   "metadata": {},
   "source": [
    "### Data Cleansing Process for User Data (Salaries) from a CSV File"
   ]
  },
  {
   "cell_type": "code",
   "execution_count": 12,
   "metadata": {},
   "outputs": [
    {
     "name": "stdout",
     "output_type": "stream",
     "text": [
      "Total number of datapoints(rows) 6704\n"
     ]
    }
   ],
   "source": [
    "import pandas as pd\n",
    "import numpy as np\n",
    "import scipy.stats as stats\n",
    "import matplotlib.pyplot as plt\n",
    "import seaborn as sns\n",
    "\n",
    "file = \"./Salary_Data.csv\"\n",
    "df_unfiltered = pd.read_csv(file)\n",
    "row_count = len(df_unfiltered)\n",
    "\n",
    "print(\"Total number of datapoints(rows)\", row_count)"
   ]
  },
  {
   "cell_type": "markdown",
   "metadata": {},
   "source": [
    "##### Removing empty valued rows from the dataset\n",
    "By giving axis as 0 we filter rows with any empty values. "
   ]
  },
  {
   "cell_type": "code",
   "execution_count": 13,
   "metadata": {},
   "outputs": [
    {
     "name": "stdout",
     "output_type": "stream",
     "text": [
      "<class 'pandas.core.frame.DataFrame'>\n",
      "Index: 6698 entries, 0 to 6703\n",
      "Data columns (total 6 columns):\n",
      " #   Column               Non-Null Count  Dtype  \n",
      "---  ------               --------------  -----  \n",
      " 0   Age                  6698 non-null   float64\n",
      " 1   Gender               6698 non-null   object \n",
      " 2   Education Level      6698 non-null   object \n",
      " 3   Job Title            6698 non-null   object \n",
      " 4   Years of Experience  6698 non-null   float64\n",
      " 5   Salary               6698 non-null   float64\n",
      "dtypes: float64(3), object(3)\n",
      "memory usage: 366.3+ KB\n",
      "None\n",
      "               Age  Years of Experience         Salary\n",
      "count  6698.000000          6698.000000    6698.000000\n",
      "mean     33.623022             8.095178  115329.253061\n",
      "std       7.615784             6.060291   52789.792507\n",
      "min      21.000000             0.000000     350.000000\n",
      "25%      28.000000             3.000000   70000.000000\n",
      "50%      32.000000             7.000000  115000.000000\n",
      "75%      38.000000            12.000000  160000.000000\n",
      "max      62.000000            34.000000  250000.000000\n",
      "[\"Bachelor's\" \"Master's\" 'phD' 'High School']\n"
     ]
    },
    {
     "name": "stderr",
     "output_type": "stream",
     "text": [
      "C:\\Users\\sreeh\\AppData\\Local\\Temp\\ipykernel_30912\\419778864.py:5: SettingWithCopyWarning: \n",
      "A value is trying to be set on a copy of a slice from a DataFrame.\n",
      "Try using .loc[row_indexer,col_indexer] = value instead\n",
      "\n",
      "See the caveats in the documentation: https://pandas.pydata.org/pandas-docs/stable/user_guide/indexing.html#returning-a-view-versus-a-copy\n",
      "  df['Education Level'] = df['Education Level'].replace({\n"
     ]
    }
   ],
   "source": [
    "df = df_unfiltered.dropna(axis=0, how='any')\n",
    "print(df.info())\n",
    "print(df.describe())\n",
    "# Replace similar education levels to have uniformity\n",
    "df['Education Level'] = df['Education Level'].replace({\n",
    "    \"Bachelor's Degree\": \"Bachelor's\",\n",
    "    \"Master's Degree\": \"Master's\",\n",
    "    \"PhD\": \"phD\"\n",
    "})\n",
    "\n",
    "print(df['Education Level'].unique())\n"
   ]
  },
  {
   "cell_type": "markdown",
   "metadata": {},
   "source": [
    "We understand that there are no rows with empty values. The dataset is now filtered for analysis so we can proceed to the next step. "
   ]
  },
  {
   "cell_type": "markdown",
   "metadata": {},
   "source": [
    "### Statistical test - **One-way ANOVA**\n",
    "\n",
    "By using the one-way ANOVA test, we can determine whether there are any statistically significant differences in the average salary across different education levels (Bachelor's, Master's, PhD, Highschool).\n",
    "\n",
    "1. **Multiple Groups**: The dataset has more than two independent groups based on education level (Bachelor's, Master's, PhD). ANOVA is ideal when comparing means across three or more groups.\n",
    "  \n",
    "2. **Testing for Differences**: ANOVA helps determine whether there are statistically significant differences in the average salary across these education levels.\n",
    "   \n",
    "3. **Assumption of Normality**: The salaries are assumed to follow a normal distribution within each group, which aligns with the conditions for using ANOVA.\n",
    "\n",
    "ANOVA effectively compares the variances between groups to see if any significant differences exist in their means.\n"
   ]
  },
  {
   "cell_type": "markdown",
   "metadata": {},
   "source": [
    "### Null Hypothesis (H0)\n",
    "Null Hypothesis (H0): There is no significant difference in salaries based on education level (Bachelor's, Master's, PhD, High School).\n",
    "\n",
    "### Alternative Hypothesis (H1)\n",
    "Alternative Hypothesis (H1): There is a significant difference in salaries based on education level (Bachelor's, Master's, PhD, High School)."
   ]
  },
  {
   "cell_type": "code",
   "execution_count": 14,
   "metadata": {},
   "outputs": [
    {
     "name": "stdout",
     "output_type": "stream",
     "text": [
      "F-statistic: 1630.9393525726196, P-value: 0.0\n"
     ]
    },
    {
     "data": {
      "image/png": "[encoded data removed]",
      "text/plain": [
       "<Figure size 1000x600 with 1 Axes>"
      ]
     },
     "metadata": {},
     "output_type": "display_data"
    }
   ],
   "source": [
    "class SalaryAnalysis:\n",
    "    def __init__(self, data):\n",
    "        self.df = data\n",
    "\n",
    "    def split_data_by_education(self):\n",
    "        self.bachelors = self.df[self.df['Education Level'] == 'Bachelor\\'s']['Salary']\n",
    "        self.masters = self.df[self.df['Education Level'] == 'Master\\'s']['Salary']\n",
    "        self.phd = self.df[self.df['Education Level'] == 'phD']['Salary']\n",
    "        self.high_school = self.df[self.df['Education Level'] == 'High School']['Salary']\n",
    "\n",
    "    def perform_anova(self):\n",
    "        self.split_data_by_education()\n",
    "        f_stat, p_value = stats.f_oneway(self.bachelors, self.masters, self.phd, self.high_school)\n",
    "        return f_stat, p_value\n",
    "\n",
    "    def visualize_data(self):\n",
    "        plt.figure(figsize=(10, 6))\n",
    "        sns.boxplot(x='Education Level', y='Salary', data=self.df)\n",
    "        plt.title('Salary Distribution by Education Level')\n",
    "        plt.show()\n",
    "\n",
    "# Instantiate the class\n",
    "analysis = SalaryAnalysis(df)\n",
    "\n",
    "# Perform ANOVA\n",
    "f_stat, p_value = analysis.perform_anova()\n",
    "print(f'F-statistic: {f_stat}, P-value: {p_value}')\n",
    "\n",
    "# Visualize the data\n",
    "analysis.visualize_data()\n"
   ]
  },
  {
   "cell_type": "markdown",
   "metadata": {},
   "source": [
    "### Summary\n",
    "We conducted a one-way ANOVA to test whether there is a significant difference in salaries across different education levels (Bachelor's, Master's, PhD). The null hypothesis stated that there is no significant difference in salaries based on education, while the alternative hypothesis suggested that salaries do differ significantly. The analysis resulted in an F-statistic of 1630.94 and a p-value of 0.0. Since the p-value is less than the significance level of 0.05, we reject the null hypothesis, indicating that there is a significant difference in salaries based on education level."
   ]
  },
  {
   "cell_type": "markdown",
   "metadata": {},
   "source": [
    "### Dataset 2 : Students Performance in Exams\n",
    "\n",
    "We are using the Students Performance in Exams dataset from [Kaggle], which can be downloaded directly via the link:\n",
    "- URL: [https://www.kaggle.com/datasets/spscientist/students-performance-in-exams]\n",
    "\n",
    "We can use this to compare test scores between two groups, such as those who completed a test preparation course versus those who didn't. This will help us determine if the test preparation course had a significant impact on test scores."
   ]
  },
  {
   "cell_type": "code",
   "execution_count": 15,
   "metadata": {},
   "outputs": [],
   "source": [
    "data = './StudentsPerformance.csv'\n",
    "student_df = pd.read_csv(data)"
   ]
  },
  {
   "cell_type": "markdown",
   "metadata": {},
   "source": [
    "### Statistical test - **Two-sample Independent t-test**\n",
    "\n",
    "We chose the Two-sample Independent t-test for the following reasons:\n",
    "\n",
    "1. Comparing two groups: We're analyzing two distinct groups (students who completed test prep vs. those who didn't).\n",
    "\n",
    "2. Independent samples: The groups are independent of each other.\n",
    "\n",
    "3. Continuous dependent variable: We're measuring a continuous variable (math scores).\n",
    "\n",
    "4. Normally distributed data: We assume the math scores are approximately normally distributed.\n",
    "\n",
    "5. Equal variances: We assume the variances in both groups are approximately equal.\n",
    "\n",
    "6. Hypothesis testing: We want to determine if there's a significant difference in mean scores between the groups.\n",
    "\n",
    "This test helps us decide if the observed difference in math scores between the two groups is statistically significant or due to random chance."
   ]
  },
  {
   "cell_type": "markdown",
   "metadata": {},
   "source": [
    "### Null Hypothesis (H0)\n",
    "Null Hypothesis (H0): There is no significant difference in mean test scores between students who completed the test preparation course and those who didn't.\n",
    "\n",
    "### Alternative Hypothesis (H1)\n",
    "Alternative Hypothesis (H1): There is a significant difference in mean test scores between students who completed the test preparation course and those who didn't."
   ]
  },
  {
   "cell_type": "code",
   "execution_count": 16,
   "metadata": {},
   "outputs": [
    {
     "name": "stdout",
     "output_type": "stream",
     "text": [
      "T-statistic: -5.704616417349102\n",
      "P-value: 1.5359134607147415e-08\n",
      "Group means:\n",
      "  none: 64.08\n",
      "  completed: 69.70\n",
      "The p-value (0.0000) is less than the significance level (0.05).\n",
      "We reject the null hypothesis. There is a significant difference between the groups.\n"
     ]
    },
    {
     "data": {
      "image/png": "[encoded data removed]",
      "text/plain": [
       "<Figure size 1000x600 with 1 Axes>"
      ]
     },
     "metadata": {},
     "output_type": "display_data"
    }
   ],
   "source": [
    "import pandas as pd\n",
    "import numpy as np\n",
    "from scipy import stats\n",
    "import matplotlib.pyplot as plt\n",
    "\n",
    "def calculate_p_value(df, group_column, test_column):\n",
    "    \"\"\"\n",
    "    Calculate p-value using Two-Sample Independent T-test.\n",
    "    \n",
    "    Parameters:\n",
    "    df (pandas.DataFrame): The dataset\n",
    "    group_column (str): The column name for grouping (e.g., 'test preparation course')\n",
    "    test_column (str): The column name for the test scores (e.g., 'math score')\n",
    "    \n",
    "    Returns:\n",
    "    tuple: t-statistic, p-value, and a dictionary of group means\n",
    "    \"\"\"\n",
    "    # Ensure the group column has exactly two unique values\n",
    "    unique_groups = df[group_column].unique()\n",
    "    if len(unique_groups) != 2:\n",
    "        raise ValueError(f\"The {group_column} must have exactly two unique values.\")\n",
    "    \n",
    "    # Split the data into two groups\n",
    "    group1 = df[df[group_column] == unique_groups[0]][test_column]\n",
    "    group2 = df[df[group_column] == unique_groups[1]][test_column]\n",
    "    \n",
    "    # Perform the t-test\n",
    "    t_statistic, p_value = stats.ttest_ind(group1, group2)\n",
    "    \n",
    "    # Calculate means for each group\n",
    "    means = {unique_groups[0]: group1.mean(), unique_groups[1]: group2.mean()}\n",
    "    \n",
    "    return t_statistic, p_value, means\n",
    "\n",
    "# Example usage:\n",
    "if __name__ == \"__main__\":\n",
    "    # Load the dataset\n",
    "    df = pd.read_csv('StudentsPerformance.csv')\n",
    "    \n",
    "    # Calculate p-value\n",
    "    t_stat, p_val, means = calculate_p_value(student_df, 'test preparation course', 'math score')\n",
    "    \n",
    "    # Print results\n",
    "    print(f\"T-statistic: {t_stat}\")\n",
    "    print(f\"P-value: {p_val}\")\n",
    "    print(\"Group means:\")\n",
    "    for group, mean in means.items():\n",
    "        print(f\"  {group}: {mean:.2f}\")\n",
    "    \n",
    "    # Interpret results\n",
    "    alpha = 0.05\n",
    "    if p_val < alpha:\n",
    "        print(f\"The p-value ({p_val:.4f}) is less than the significance level ({alpha}).\")\n",
    "        print(\"We reject the null hypothesis. There is a significant difference between the groups.\")\n",
    "    else:\n",
    "        print(f\"The p-value ({p_val:.4f}) is not less than the significance level ({alpha}).\")\n",
    "        print(\"We fail to reject the null hypothesis. There is not significant evidence of a difference between the groups.\")\n",
    "\n",
    "    # Visualize the results\n",
    "    plt.figure(figsize=(10, 6))\n",
    "    plt.bar(means.keys(), means.values())\n",
    "    plt.title(f'Mean Math Scores by Test Preparation Course')\n",
    "    plt.ylabel('Mean Math Score')\n",
    "    plt.show()"
   ]
  },
  {
   "cell_type": "markdown",
   "metadata": {},
   "source": [
    "### Summary\n",
    "A Two-Sample Independent T-test was conducted to compare math scores between students who completed a test preparation course and those who did not. The analysis revealed a statistically significant difference (t = -5.70, p < 0.001) between the two groups. Students who completed the course scored higher (mean = 69.70) than those who did not (mean = 64.08). The extremely low p-value (1.54e-08) provides strong evidence to reject the null hypothesis, indicating that the test preparation course has a meaningful impact on math performance. This finding suggests that the course is effective in improving students' math scores and could be a valuable resource for enhancing academic achievement."
   ]
  }
 ],
 "metadata": {
  "kernelspec": {
   "display_name": "CSCN8010_classic_ml",
   "language": "python",
   "name": "cscn8010_classic_ml"
  },
  "language_info": {
   "codemirror_mode": {
    "name": "ipython",
    "version": 3
   },
   "file_extension": ".py",
   "mimetype": "text/x-python",
   "name": "python",
   "nbconvert_exporter": "python",
   "pygments_lexer": "ipython3",
   "version": "3.12.5"
  }
 },
 "nbformat": 4,
 "nbformat_minor": 2
}
