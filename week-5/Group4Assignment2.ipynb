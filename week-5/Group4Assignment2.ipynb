{
 "cells": [
  {
   "cell_type": "markdown",
   "metadata": {},
   "source": [
    "# Data Analysis Mathematics, Algorithms and Modeling\n",
    "\n",
    "## Team Information - **Group Presentation 2**\n",
    "\n",
    "**Team Members**\n",
    "\n",
    "Name: Ayush Patel  \n",
    "Student Number: 9033358\n",
    "\n",
    "Name: Nikhil Shankar  \n",
    "Student Number: 9026254\n",
    "\n",
    "Name: Sreehari Prathap  \n",
    "Student Number: 8903199\n"
   ]
  },
  {
   "cell_type": "markdown",
   "metadata": {},
   "source": [
    "## Step 1: Install and Configure the IDE (e.g., Jupyter Notebook and VS Code)\n",
    "- Install Anaconda (for Jupyter Notebook) and Visual Studio Code (VS Code).\n",
    "  - Anaconda: Visit [anaconda.com](https://www.anaconda.com/products/individual) and download the appropriate installer for your operating system.\n",
    "  - VS Code: Download and install from [Visual Studio Code](https://code.visualstudio.com/).\n",
    "- Install Pandas Library\n",
    "  - Open the terminal and run the following command: `pip install pandas`"
   ]
  },
  {
   "cell_type": "markdown",
   "metadata": {},
   "source": [
    "## Dataset 1 : Salary Data\n",
    "We are using the Salary_Data dataset from [Kaggle], which can be downloaded directly via the link:\n",
    "- URL: [https://www.kaggle.com/datasets/mohithsairamreddy/salary-data]"
   ]
  },
  {
   "cell_type": "markdown",
   "metadata": {},
   "source": [
    "### Data Cleansing Process for User Data (Salaries) from a CSV File"
   ]
  },
  {
   "cell_type": "code",
   "execution_count": 26,
   "metadata": {},
   "outputs": [
    {
     "name": "stdout",
     "output_type": "stream",
     "text": [
      "Total number of datapoints(rows) 6704\n"
     ]
    }
   ],
   "source": [
    "import pandas as pd\n",
    "import numpy as np\n",
    "import scipy.stats as stats\n",
    "import matplotlib.pyplot as plt\n",
    "import seaborn as sns\n",
    "\n",
    "file = \"./Salary_Data.csv\"\n",
    "df_unfiltered = pd.read_csv(file)\n",
    "row_count = len(df_unfiltered)\n",
    "\n",
    "print(\"Total number of datapoints(rows)\", row_count)"
   ]
  },
  {
   "cell_type": "markdown",
   "metadata": {},
   "source": [
    "##### Removing empty valued rows from the dataset\n",
    "By giving axis as 0 we filter rows with any empty values. "
   ]
  },
  {
   "cell_type": "code",
   "execution_count": 66,
   "metadata": {},
   "outputs": [
    {
     "name": "stdout",
     "output_type": "stream",
     "text": [
      "<class 'pandas.core.frame.DataFrame'>\n",
      "Index: 6698 entries, 0 to 6703\n",
      "Data columns (total 6 columns):\n",
      " #   Column               Non-Null Count  Dtype  \n",
      "---  ------               --------------  -----  \n",
      " 0   Age                  6698 non-null   float64\n",
      " 1   Gender               6698 non-null   object \n",
      " 2   Education Level      6698 non-null   object \n",
      " 3   Job Title            6698 non-null   object \n",
      " 4   Years of Experience  6698 non-null   float64\n",
      " 5   Salary               6698 non-null   float64\n",
      "dtypes: float64(3), object(3)\n",
      "memory usage: 366.3+ KB\n",
      "None\n",
      "               Age  Years of Experience         Salary\n",
      "count  6698.000000          6698.000000    6698.000000\n",
      "mean     33.623022             8.095178  115329.253061\n",
      "std       7.615784             6.060291   52789.792507\n",
      "min      21.000000             0.000000     350.000000\n",
      "25%      28.000000             3.000000   70000.000000\n",
      "50%      32.000000             7.000000  115000.000000\n",
      "75%      38.000000            12.000000  160000.000000\n",
      "max      62.000000            34.000000  250000.000000\n",
      "[\"Bachelor's\" \"Master's\" 'phD' 'High School']\n"
     ]
    }
   ],
   "source": [
    "# Drop rows with any missing values\n",
    "df = df_unfiltered.dropna(axis=0, how='any')\n",
    "print(df.info())\n",
    "print(df.describe())\n",
    "\n",
    "# Replace similar education levels to have uniformity using .loc\n",
    "df.loc[:, 'Education Level'] = df['Education Level'].replace({\n",
    "    \"Bachelor's Degree\": \"Bachelor's\",\n",
    "    \"Master's Degree\": \"Master's\",\n",
    "    \"PhD\": \"phD\"\n",
    "})\n",
    "\n",
    "print(df['Education Level'].unique())"
   ]
  },
  {
   "cell_type": "markdown",
   "metadata": {},
   "source": [
    "We understand that there are no rows with empty values. The dataset is now filtered for analysis so we can proceed to the next step. "
   ]
  },
  {
   "cell_type": "markdown",
   "metadata": {},
   "source": [
    "#### **Checking for normality in distribution of salary**"
   ]
  },
  {
   "cell_type": "code",
   "execution_count": 67,
   "metadata": {},
   "outputs": [
    {
     "name": "stdout",
     "output_type": "stream",
     "text": [
      "Anderson-Darling Test Statistic: 80.83773381147694\n",
      "Critical Values: [0.576 0.656 0.787 0.917 1.091]\n",
      "Significance Levels: [15.  10.   5.   2.5  1. ]\n",
      "Check if distribution of salary is normal\n",
      "Reject the null hypothesis: the data does not follow a normal distribution.\n",
      "\n",
      "\n"
     ]
    }
   ],
   "source": [
    "from scipy.stats import anderson\n",
    "\n",
    "def check_anderson_darling_normality(data, title):\n",
    "    result = anderson(data)\n",
    "    # Output the results\n",
    "    print('Anderson-Darling Test Statistic:', result.statistic)\n",
    "    print('Critical Values:', result.critical_values)\n",
    "    print('Significance Levels:', result.significance_level)\n",
    "    # Interpretation\n",
    "    alpha = 0.05\n",
    "    print(title)\n",
    "    if result.statistic > result.critical_values[2]:  # 2 corresponds to the 5% significance level\n",
    "        print(\"Reject the null hypothesis: the data does not follow a normal distribution.\\n\\n\")\n",
    "    else:\n",
    "        print(\"Fail to reject the null hypothesis: the data follows a normal distribution.\\n\\n\")\n",
    "\n",
    "check_anderson_darling_normality(df['Salary'], \"Check if distribution of salary is normal\")"
   ]
  },
  {
   "cell_type": "markdown",
   "metadata": {},
   "source": [
    "> We find that the salary distribution is not Normal"
   ]
  },
  {
   "cell_type": "markdown",
   "metadata": {},
   "source": [
    "### Statistical test - Which one to select ?\n",
    "\n",
    "These were the peculiarities of our dataset and the hypothesis.\n",
    "\n",
    "1. **Multiple Groups**: The dataset has more than two independent groups based on education level (Bachelor's, Master's, PhD). ANOVA is ideal when comparing means across three or more groups.\n",
    "  \n",
    "2. **Testing for Differences**: The goal of this analysis is to find the impact of Degree in drawing Salary. \n",
    "   \n",
    "3. **Assumption of Normality**: From the Shapiro-Wilks normality test we found that the distribution for salary is not normal.\n",
    "\n",
    "- Since we had more than 2 groups to compare our first choice was One way ANOVA test. \n",
    "- After Shapiro Wilks test we found that the distribution of salary ie the independent variable is not normal.\n",
    "- This means we cant use ANOVA, F-Test or T-test.\n",
    "- Chi-Squared test was out of scope since the parameter is not categorical.\n",
    "- We couldn't choose Wilcoxon Signed rank test since we had more than 2 groups.\n",
    "\n",
    "Since the data is not normally distributed the best option for us was to go with a non-parametric test. And since we had more than 2 groups we chose **Kruskal Wallis H Test** to test our hypothesis.\n",
    "\n",
    "These are the 4 main characteristics required for a dataset in order for **Kruskals Wallis** test to perform well.\n",
    "\n",
    "- Continuos data ( ordinal ratio etc also works )\n",
    "- Independent Groups ( in our case education groups are mutually exclusive )\n",
    "- Three or more groups : In our case we had 4\n",
    "- Non-Normal Distribution : Using shapiro wilks test we found our data is not normally distributed.\n",
    "\n"
   ]
  },
  {
   "cell_type": "markdown",
   "metadata": {},
   "source": [
    "#### **Kruskal Wallis H Test**"
   ]
  },
  {
   "cell_type": "markdown",
   "metadata": {},
   "source": [
    "### Null Hypothesis (H0)\n",
    "Null Hypothesis (H0): The medians of all groups are equal. \n",
    "\n",
    "\n",
    "### Alternative Hypothesis (H1)\n",
    "Alternative Hypothesis (H1): At least one group median is different from the others."
   ]
  },
  {
   "cell_type": "code",
   "execution_count": 70,
   "metadata": {},
   "outputs": [
    {
     "name": "stdout",
     "output_type": "stream",
     "text": [
      "H-statistic: 2822.5383556755637, P-value: 0.0\n"
     ]
    },
    {
     "data": {
      "image/png": "[encoded data removed]",
      "text/plain": [
       "<Figure size 1000x600 with 1 Axes>"
      ]
     },
     "metadata": {},
     "output_type": "display_data"
    }
   ],
   "source": [
    "from scipy.stats import kruskal\n",
    "\n",
    "\n",
    "class SalaryAnalysis:\n",
    "    def __init__(self, data):\n",
    "        self.df = data\n",
    "\n",
    "    def split_data_by_education(self):\n",
    "        self.bachelors = self.df[self.df['Education Level'] == 'Bachelor\\'s']['Salary']\n",
    "        self.masters = self.df[self.df['Education Level'] == 'Master\\'s']['Salary']\n",
    "        self.phd = self.df[self.df['Education Level'] == 'phD']['Salary']\n",
    "        self.high_school = self.df[self.df['Education Level'] == 'High School']['Salary']\n",
    "\n",
    "    def perform_kruskals(self):\n",
    "        self.split_data_by_education()\n",
    "        h_stat, p_value = kruskal(self.bachelors, self.masters, self.phd, self.high_school)\n",
    "        return h_stat, p_value\n",
    "\n",
    "    def visualize_data(self):\n",
    "        plt.figure(figsize=(10, 6))\n",
    "        sns.boxplot(x='Education Level', y='Salary', data=self.df)\n",
    "        plt.title('Salary Distribution by Education Level')\n",
    "        plt.show()\n",
    "\n",
    "# Instantiate the class\n",
    "analysis = SalaryAnalysis(df)\n",
    "\n",
    "# Perform Kruskal\n",
    "h_stat, p_value = analysis.perform_kruskals()\n",
    "\n",
    "print(f'H-statistic: {h_stat}, P-value: {p_value}')\n",
    "\n",
    "# Visualize the data\n",
    "analysis.visualize_data()\n"
   ]
  },
  {
   "cell_type": "markdown",
   "metadata": {},
   "source": [
    "### Summary\n",
    "We conducted a Kruskals Wallis H-Test to test whether there is a significant difference in salaries across different education levels (Bachelor's, Master's, PhD). The null hypothesis stated that there is no significant difference in salaries based on education, while the alternative hypothesis suggested that salaries do differ significantly. The analysis resulted in an H-statistic of 2822.53 and a p-value of 0.0. Since the p-value is less than the significance level of 0.05, we reject the null hypothesis, indicating that there is a significant difference in salaries based on education level atleast in one of the groups. \n",
    "\n",
    "Kruskal Wallis H Test confirms the hypothesis that the median salary for atleast one group is significantly differing from others."
   ]
  }
 ],
 "metadata": {
  "kernelspec": {
   "display_name": "CSCN8010_classical_ml_311",
   "language": "python",
   "name": "python3"
  },
  "language_info": {
   "codemirror_mode": {
    "name": "ipython",
    "version": 3
   },
   "file_extension": ".py",
   "mimetype": "text/x-python",
   "name": "python",
   "nbconvert_exporter": "python",
   "pygments_lexer": "ipython3",
   "version": "3.11.0"
  }
 },
 "nbformat": 4,
 "nbformat_minor": 2
}
