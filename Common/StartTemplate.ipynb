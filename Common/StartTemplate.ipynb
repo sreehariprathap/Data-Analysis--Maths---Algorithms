{
 "cells": [
  {
   "cell_type": "markdown",
   "metadata": {},
   "source": [
    "# Data Analysis Mathematics, Algorithms and Modeling\n",
    "\n",
    "## Team Information - ** TODO Fill the type of assignment**\n",
    "\n",
    "**Team Members**\n",
    "\n",
    "Name: Ayush Patel  \n",
    "Student Number: 9033358\n",
    "\n",
    "Name: Nikhil Shankar  \n",
    "Student Number: 9026254\n",
    "\n",
    "Name: Sreehari Prathap  \n",
    "Student Number: 8903199\n"
   ]
  },
  {
   "cell_type": "markdown",
   "metadata": {},
   "source": [
    "## Step 1: Install and Configure the IDE (e.g., Jupyter Notebook and VS Code)\n",
    "- Install Anaconda (for Jupyter Notebook) and Visual Studio Code (VS Code).\n",
    "  - Anaconda: Visit [anaconda.com](https://www.anaconda.com/products/individual) and download the appropriate installer for your operating system.\n",
    "  - VS Code: Download and install from [Visual Studio Code](https://code.visualstudio.com/).\n",
    "- Install Pandas Library\n",
    "  - Open the terminal and run the following command: `pip install pandas`"
   ]
  },
  {
   "cell_type": "markdown",
   "metadata": {},
   "source": [
    "## Step 2: Downloading the Dataset\n",
    "We are using the Utrecht Fairness Recruitment dataset from [Kaggle], which can be downloaded directly via the link:\n",
    "- URL: [https://www.kaggle.com/datasets/ictinstitute/utrecht-fairness-recruitment-dataset]"
   ]
  },
  {
   "cell_type": "markdown",
   "metadata": {},
   "source": [
    "## Step 3 : Data Cleansing\n",
    "\n",
    "### Data Cleansing Process for User Data (Talent Acquisition) from a CSV File"
   ]
  },
  {
   "cell_type": "code",
   "execution_count": null,
   "metadata": {},
   "outputs": [],
   "source": [
    "import pandas as pd\n",
    "import matplotlib.pyplot as plt\n",
    "\n",
    "file = \"recruitment_dataset.csv\"\n",
    "df_unfiltered = pd.read_csv(file)\n",
    "row_count = len(df_unfiltered)\n",
    "\n",
    "print(\"Total number of datapoints(rows)\", row_count)"
   ]
  },
  {
   "cell_type": "markdown",
   "metadata": {},
   "source": [
    "##### Removing empty valued rows from the dataset\n",
    "By giving axis as 0 we filter rows with any empty values. "
   ]
  },
  {
   "cell_type": "code",
   "execution_count": null,
   "metadata": {},
   "outputs": [],
   "source": [
    "df = df_unfiltered.dropna(axis=0, how='any')\n",
    "print(\"Total number of datapoints(rows)\", len(df))"
   ]
  },
  {
   "cell_type": "markdown",
   "metadata": {},
   "source": [
    "We understand that there are no rows with empty values. The dataset is now filtered for analysis so we can proceed to the next step. "
   ]
  },
  {
   "cell_type": "markdown",
   "metadata": {},
   "source": []
  }
 ],
 "metadata": {
  "kernelspec": {
   "display_name": "CSCN8010_classical_ml_311",
   "language": "python",
   "name": "python3"
  },
  "language_info": {
   "codemirror_mode": {
    "name": "ipython",
    "version": 3
   },
   "file_extension": ".py",
   "mimetype": "text/x-python",
   "name": "python",
   "nbconvert_exporter": "python",
   "pygments_lexer": "ipython3",
   "version": "3.11.0"
  }
 },
 "nbformat": 4,
 "nbformat_minor": 2
}
