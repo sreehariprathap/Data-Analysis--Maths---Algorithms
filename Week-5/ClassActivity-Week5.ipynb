{
 "cells": [
  {
   "cell_type": "markdown",
   "metadata": {},
   "source": [
    "# Data Analysis Mathematics, Algorithms and Modeling\n",
    "\n",
    "## Team Information - ** TODO Fill the type of assignment**\n",
    "\n",
    "**Team Members**\n",
    "\n",
    "Name: Ayush Patel  \n",
    "Student Number: 9033358\n",
    "\n",
    "Name: Nikhil Shankar  \n",
    "Student Number: 9026254\n",
    "\n",
    "Name: Sreehari Prathap  \n",
    "Student Number: 8903199\n"
   ]
  },
  {
   "cell_type": "markdown",
   "metadata": {},
   "source": [
    "## Step 1: Install and Configure the IDE (e.g., Jupyter Notebook and VS Code)\n",
    "- Install Anaconda (for Jupyter Notebook) and Visual Studio Code (VS Code).\n",
    "  - Anaconda: Visit [anaconda.com](https://www.anaconda.com/products/individual) and download the appropriate installer for your operating system.\n",
    "  - VS Code: Download and install from [Visual Studio Code](https://code.visualstudio.com/).\n",
    "- Install Pandas Library\n",
    "  - Open the terminal and run the following command: `pip install pandas`"
   ]
  },
  {
   "cell_type": "markdown",
   "metadata": {},
   "source": [
    "## Step 2: Downloading the Dataset\n",
    "We are using the Utrecht Fairness Recruitment dataset from [Kaggle], which can be downloaded directly via the link:\n",
    "- URL: [https://www.kaggle.com/datasets/ictinstitute/utrecht-fairness-recruitment-dataset]"
   ]
  },
  {
   "cell_type": "markdown",
   "metadata": {},
   "source": [
    "## Step 3 : Data Cleansing\n",
    "\n",
    "### Data Cleansing Process for User Data (Talent Acquisition) from a CSV File"
   ]
  },
  {
   "cell_type": "code",
   "execution_count": 36,
   "metadata": {},
   "outputs": [
    {
     "name": "stdout",
     "output_type": "stream",
     "text": [
      "Total number of datapoints(rows) 4000\n"
     ]
    }
   ],
   "source": [
    "import pandas as pd\n",
    "import matplotlib.pyplot as plt\n",
    "\n",
    "file = \"recruitment_dataset.csv\"\n",
    "df_unfiltered = pd.read_csv(file)\n",
    "row_count = len(df_unfiltered)\n",
    "\n",
    "print(\"Total number of datapoints(rows)\", row_count)"
   ]
  },
  {
   "cell_type": "markdown",
   "metadata": {},
   "source": [
    "##### Removing empty valued rows from the dataset\n",
    "By giving axis as 0 we filter rows with any empty values. "
   ]
  },
  {
   "cell_type": "code",
   "execution_count": 37,
   "metadata": {},
   "outputs": [
    {
     "name": "stdout",
     "output_type": "stream",
     "text": [
      "Total number of datapoints(rows) 3917\n"
     ]
    }
   ],
   "source": [
    "df = df_unfiltered.dropna(axis=0, how='any')\n",
    "df = df[(df['gender'] == 'male') | (df['gender'] == 'female')]\n",
    "print(\"Total number of datapoints(rows)\", len(df))"
   ]
  },
  {
   "cell_type": "markdown",
   "metadata": {},
   "source": [
    "We understand that there are no rows with empty values. The dataset is now filtered for analysis so we can proceed to the next step. "
   ]
  },
  {
   "cell_type": "markdown",
   "metadata": {},
   "source": []
  },
  {
   "cell_type": "markdown",
   "metadata": {},
   "source": [
    "#### **Aim of the analysis**\n",
    "We are trying to find the various factors which impact the hiring decision the most.\n"
   ]
  },
  {
   "cell_type": "markdown",
   "metadata": {},
   "source": []
  },
  {
   "cell_type": "markdown",
   "metadata": {},
   "source": [
    "#### **Selecting the right test**\n",
    "Our dataset is hugely categorical. Only age and grade column was non-categorical. And using Shapiro Wilks we have rejected the null hypothesis of normal distribution. \n",
    "\n",
    "> Since data is not normally distributed it won't be wise to choose F-Test, T-Test or ANOVA one way test. \n",
    "\n",
    "> Since our data is hugely categorical and since we want to find the relation between two categories the best option will be to choose Chi-Squared test.\n",
    "\n",
    "> Why not Wilcoxon ? We are not comparing two related samples. We can use this if we were trying to find relation between lets say total applicants and hired people. But first we are more interested in figuring out if there is any direct correlation between two parameters."
   ]
  },
  {
   "cell_type": "markdown",
   "metadata": {},
   "source": []
  },
  {
   "cell_type": "markdown",
   "metadata": {},
   "source": [
    "#### **Chi-Squared Test**"
   ]
  },
  {
   "cell_type": "markdown",
   "metadata": {},
   "source": [
    "**Step 1:**\n",
    "\n",
    "Create a contingency table with hiring decision and gender for the whole population"
   ]
  },
  {
   "cell_type": "code",
   "execution_count": 38,
   "metadata": {},
   "outputs": [],
   "source": [
    "contingency_table = pd.crosstab(df['gender'], df['decision'], rownames=['Gender'], colnames=['Hired'])"
   ]
  },
  {
   "cell_type": "markdown",
   "metadata": {},
   "source": [
    "**Step 2**"
   ]
  },
  {
   "cell_type": "code",
   "execution_count": 39,
   "metadata": {},
   "outputs": [
    {
     "name": "stdout",
     "output_type": "stream",
     "text": [
      "Chi-Squared Statistic: 26.77640016379292\n",
      "P-Value: 2.2840980419948216e-07\n",
      "Degrees of Freedom: 1\n",
      "Expected Frequencies:\n",
      "[[1222.42787848  567.57212152]\n",
      " [1452.57212152  674.42787848]]\n"
     ]
    }
   ],
   "source": [
    "import pandas as pd\n",
    "from scipy.stats import chi2_contingency\n",
    "\n",
    "# Perform Chi-Squared Test\n",
    "def calculate_chi_squared(contingency_table):\n",
    "    chi2_stat, p_val, dof, ex = chi2_contingency(contingency_table)\n",
    "    print(f\"Chi-Squared Statistic: {chi2_stat}\")\n",
    "    print(f\"P-Value: {p_val}\")\n",
    "    print(f\"Degrees of Freedom: {dof}\")\n",
    "    print(f\"Expected Frequencies:\\n{ex}\")\n",
    "\n",
    "calculate_chi_squared(contingency_table)"
   ]
  },
  {
   "cell_type": "code",
   "execution_count": 40,
   "metadata": {},
   "outputs": [],
   "source": [
    "def create_contingency_table_company(company_name, df):\n",
    "    df_new = df[df['company'] == company_name]\n",
    "    contingency_table_new = pd.crosstab(df_new['gender'], df_new['decision'], rownames=['Gender'], colnames=['Hired'])\n",
    "    return contingency_table_new"
   ]
  },
  {
   "cell_type": "markdown",
   "metadata": {},
   "source": [
    "##### **Company A**"
   ]
  },
  {
   "cell_type": "code",
   "execution_count": 41,
   "metadata": {},
   "outputs": [
    {
     "data": {
      "text/html": [
       "<div>\n",
       "<style scoped>\n",
       "    .dataframe tbody tr th:only-of-type {\n",
       "        vertical-align: middle;\n",
       "    }\n",
       "\n",
       "    .dataframe tbody tr th {\n",
       "        vertical-align: top;\n",
       "    }\n",
       "\n",
       "    .dataframe thead th {\n",
       "        text-align: right;\n",
       "    }\n",
       "</style>\n",
       "<table border=\"1\" class=\"dataframe\">\n",
       "  <thead>\n",
       "    <tr style=\"text-align: right;\">\n",
       "      <th>Hired</th>\n",
       "      <th>False</th>\n",
       "      <th>True</th>\n",
       "    </tr>\n",
       "    <tr>\n",
       "      <th>Gender</th>\n",
       "      <th></th>\n",
       "      <th></th>\n",
       "    </tr>\n",
       "  </thead>\n",
       "  <tbody>\n",
       "    <tr>\n",
       "      <th>female</th>\n",
       "      <td>272</td>\n",
       "      <td>171</td>\n",
       "    </tr>\n",
       "    <tr>\n",
       "      <th>male</th>\n",
       "      <td>294</td>\n",
       "      <td>247</td>\n",
       "    </tr>\n",
       "  </tbody>\n",
       "</table>\n",
       "</div>"
      ],
      "text/plain": [
       "Hired   False  True \n",
       "Gender              \n",
       "female    272    171\n",
       "male      294    247"
      ]
     },
     "metadata": {},
     "output_type": "display_data"
    },
    {
     "name": "stdout",
     "output_type": "stream",
     "text": [
      "Chi-Squared Statistic: 4.677802663139956\n",
      "P-Value: 0.03055480773483987\n",
      "Degrees of Freedom: 1\n",
      "Expected Frequencies:\n",
      "[[254.81504065 188.18495935]\n",
      " [311.18495935 229.81504065]]\n"
     ]
    }
   ],
   "source": [
    "ct_a = create_contingency_table_company('A', df)\n",
    "display(ct_a)\n",
    "calculate_chi_squared(ct_a)"
   ]
  },
  {
   "cell_type": "markdown",
   "metadata": {},
   "source": [
    "#### **Company B**"
   ]
  },
  {
   "cell_type": "code",
   "execution_count": 42,
   "metadata": {},
   "outputs": [
    {
     "data": {
      "text/html": [
       "<div>\n",
       "<style scoped>\n",
       "    .dataframe tbody tr th:only-of-type {\n",
       "        vertical-align: middle;\n",
       "    }\n",
       "\n",
       "    .dataframe tbody tr th {\n",
       "        vertical-align: top;\n",
       "    }\n",
       "\n",
       "    .dataframe thead th {\n",
       "        text-align: right;\n",
       "    }\n",
       "</style>\n",
       "<table border=\"1\" class=\"dataframe\">\n",
       "  <thead>\n",
       "    <tr style=\"text-align: right;\">\n",
       "      <th>Hired</th>\n",
       "      <th>False</th>\n",
       "      <th>True</th>\n",
       "    </tr>\n",
       "    <tr>\n",
       "      <th>Gender</th>\n",
       "      <th></th>\n",
       "      <th></th>\n",
       "    </tr>\n",
       "  </thead>\n",
       "  <tbody>\n",
       "    <tr>\n",
       "      <th>female</th>\n",
       "      <td>388</td>\n",
       "      <td>63</td>\n",
       "    </tr>\n",
       "    <tr>\n",
       "      <th>male</th>\n",
       "      <td>289</td>\n",
       "      <td>241</td>\n",
       "    </tr>\n",
       "  </tbody>\n",
       "</table>\n",
       "</div>"
      ],
      "text/plain": [
       "Hired   False  True \n",
       "Gender              \n",
       "female    388     63\n",
       "male      289    241"
      ]
     },
     "metadata": {},
     "output_type": "display_data"
    },
    {
     "name": "stdout",
     "output_type": "stream",
     "text": [
      "Chi-Squared Statistic: 111.60392237769867\n",
      "P-Value: 4.363235585451077e-26\n",
      "Degrees of Freedom: 1\n",
      "Expected Frequencies:\n",
      "[[311.24057085 139.75942915]\n",
      " [365.75942915 164.24057085]]\n"
     ]
    }
   ],
   "source": [
    "ct_b = create_contingency_table_company('B', df)\n",
    "display(ct_b)\n",
    "calculate_chi_squared(ct_b)"
   ]
  },
  {
   "cell_type": "markdown",
   "metadata": {},
   "source": [
    "#### **Company C**"
   ]
  },
  {
   "cell_type": "code",
   "execution_count": 43,
   "metadata": {},
   "outputs": [
    {
     "data": {
      "text/html": [
       "<div>\n",
       "<style scoped>\n",
       "    .dataframe tbody tr th:only-of-type {\n",
       "        vertical-align: middle;\n",
       "    }\n",
       "\n",
       "    .dataframe tbody tr th {\n",
       "        vertical-align: top;\n",
       "    }\n",
       "\n",
       "    .dataframe thead th {\n",
       "        text-align: right;\n",
       "    }\n",
       "</style>\n",
       "<table border=\"1\" class=\"dataframe\">\n",
       "  <thead>\n",
       "    <tr style=\"text-align: right;\">\n",
       "      <th>Hired</th>\n",
       "      <th>False</th>\n",
       "      <th>True</th>\n",
       "    </tr>\n",
       "    <tr>\n",
       "      <th>Gender</th>\n",
       "      <th></th>\n",
       "      <th></th>\n",
       "    </tr>\n",
       "  </thead>\n",
       "  <tbody>\n",
       "    <tr>\n",
       "      <th>female</th>\n",
       "      <td>347</td>\n",
       "      <td>106</td>\n",
       "    </tr>\n",
       "    <tr>\n",
       "      <th>male</th>\n",
       "      <td>379</td>\n",
       "      <td>145</td>\n",
       "    </tr>\n",
       "  </tbody>\n",
       "</table>\n",
       "</div>"
      ],
      "text/plain": [
       "Hired   False  True \n",
       "Gender              \n",
       "female    347    106\n",
       "male      379    145"
      ]
     },
     "metadata": {},
     "output_type": "display_data"
    },
    {
     "name": "stdout",
     "output_type": "stream",
     "text": [
      "Chi-Squared Statistic: 2.1044293643383085\n",
      "P-Value: 0.1468731254251134\n",
      "Degrees of Freedom: 1\n",
      "Expected Frequencies:\n",
      "[[336.62026612 116.37973388]\n",
      " [389.37973388 134.62026612]]\n"
     ]
    }
   ],
   "source": [
    "ct_c = create_contingency_table_company('C', df)\n",
    "display(ct_c)\n",
    "calculate_chi_squared(ct_c)"
   ]
  },
  {
   "cell_type": "markdown",
   "metadata": {},
   "source": [
    "#### **Company D**"
   ]
  },
  {
   "cell_type": "code",
   "execution_count": 44,
   "metadata": {},
   "outputs": [
    {
     "data": {
      "text/html": [
       "<div>\n",
       "<style scoped>\n",
       "    .dataframe tbody tr th:only-of-type {\n",
       "        vertical-align: middle;\n",
       "    }\n",
       "\n",
       "    .dataframe tbody tr th {\n",
       "        vertical-align: top;\n",
       "    }\n",
       "\n",
       "    .dataframe thead th {\n",
       "        text-align: right;\n",
       "    }\n",
       "</style>\n",
       "<table border=\"1\" class=\"dataframe\">\n",
       "  <thead>\n",
       "    <tr style=\"text-align: right;\">\n",
       "      <th>Hired</th>\n",
       "      <th>False</th>\n",
       "      <th>True</th>\n",
       "    </tr>\n",
       "    <tr>\n",
       "      <th>Gender</th>\n",
       "      <th></th>\n",
       "      <th></th>\n",
       "    </tr>\n",
       "  </thead>\n",
       "  <tbody>\n",
       "    <tr>\n",
       "      <th>female</th>\n",
       "      <td>291</td>\n",
       "      <td>152</td>\n",
       "    </tr>\n",
       "    <tr>\n",
       "      <th>male</th>\n",
       "      <td>415</td>\n",
       "      <td>117</td>\n",
       "    </tr>\n",
       "  </tbody>\n",
       "</table>\n",
       "</div>"
      ],
      "text/plain": [
       "Hired   False  True \n",
       "Gender              \n",
       "female    291    152\n",
       "male      415    117"
      ]
     },
     "metadata": {},
     "output_type": "display_data"
    },
    {
     "name": "stdout",
     "output_type": "stream",
     "text": [
      "Chi-Squared Statistic: 17.750377146944285\n",
      "P-Value: 2.5186755742790345e-05\n",
      "Degrees of Freedom: 1\n",
      "Expected Frequencies:\n",
      "[[320.7774359 122.2225641]\n",
      " [385.2225641 146.7774359]]\n"
     ]
    }
   ],
   "source": [
    "ct_d = create_contingency_table_company('D', df)\n",
    "display(ct_d)\n",
    "calculate_chi_squared(ct_d)"
   ]
  }
 ],
 "metadata": {
  "kernelspec": {
   "display_name": "CSCN8010_classical_ml_311",
   "language": "python",
   "name": "python3"
  },
  "language_info": {
   "codemirror_mode": {
    "name": "ipython",
    "version": 3
   },
   "file_extension": ".py",
   "mimetype": "text/x-python",
   "name": "python",
   "nbconvert_exporter": "python",
   "pygments_lexer": "ipython3",
   "version": "3.11.0"
  }
 },
 "nbformat": 4,
 "nbformat_minor": 2
}
