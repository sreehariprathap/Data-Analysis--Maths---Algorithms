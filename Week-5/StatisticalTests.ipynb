{
 "cells": [
  {
   "cell_type": "code",
   "execution_count": 4,
   "metadata": {},
   "outputs": [
    {
     "name": "stdout",
     "output_type": "stream",
     "text": [
      "Excel file saved as 'statistical_tests_summary.xlsx'\n"
     ]
    }
   ],
   "source": [
    "import pandas as pd\n",
    "\n",
    "# Data for the table\n",
    "data = {\n",
    "    \"Name of Test\": [\"F-Test\", \"T-Test\", \"Wilcoxon Signed-Rank Test\", \"Chi-Squared Test\", \"ANOVA (One-Way)\"],\n",
    "    \"Characteristics of Data (When to Use)\": [\n",
    "        \"- Used to compare the variances of two or more groups.\\n- Data must be normally distributed.\\n- Usually used in ANOVA (Analysis of Variance).\",\n",
    "        \"- Compares the means of two groups.\\n- Assumes normal distribution.\\n- Use when population standard deviation is unknown.\",\n",
    "        \"- Non-parametric test for paired data.\\n- Use when data is not normally distributed.\\n- Comparing two related samples (e.g., pre-test/post-test).\",\n",
    "        \"- Tests relationships between two categorical variables.\\n- Data should be in a contingency table.\\n- Use when expected frequency > 5 per cell.\",\n",
    "        \"- Compares the means of three or more groups.\\n- Data must be normally distributed.\\n- Groups should have similar variances (homogeneity of variance).\"\n",
    "    ],\n",
    "    \"Characteristics of Data (When Not to Use)\": [\n",
    "        \"- Data is not normally distributed.\\n- When comparing means (use T-test instead).\\n- When variances are equal (no need for the test).\",\n",
    "        \"- If data is heavily skewed or not normal.\\n- More than two groups (use ANOVA).\\n- Small sample size with extreme outliers.\",\n",
    "        \"- Independent data (use T-test or other parametric tests).\\n- More than two groups (use Kruskal-Wallis test).\",\n",
    "        \"- When expected frequency in any cell is < 5.\\n- If data is continuous (use ANOVA or regression).\\n- When comparing means.\",\n",
    "        \"- Comparing only two groups (use T-test).\\n- Data is not normal or variances are not equal (use non-parametric tests like Kruskal-Wallis).\"\n",
    "    ],\n",
    "    \"Outputs of the Test\": [\n",
    "        \"- F-statistic\\n- p-value\",\n",
    "        \"- t-statistic\\n- p-value\",\n",
    "        \"- Wilcoxon statistic\\n- p-value\",\n",
    "        \"- Chi-squared statistic\\n- p-value\\n- Degrees of freedom\",\n",
    "        \"- F-statistic\\n- p-value\"\n",
    "    ],\n",
    "    \"How to Interpret the Outputs\": [\n",
    "        \"- F-statistic: Large F means more difference in variances.\\n- p-value < α (e.g., 0.05): Reject null hypothesis, variances differ.\",\n",
    "        \"- t-statistic: Large t suggests greater difference between groups.\\n- p-value < α: Significant difference in means.\",\n",
    "        \"- p-value < α: Reject null hypothesis, significant difference between paired samples.\\n- p-value ≥ α: No difference.\",\n",
    "        \"- p-value < α: Significant association between variables.\\n- p-value ≥ α: No association between variables.\",\n",
    "        \"- F-statistic: Larger values suggest more difference between groups.\\n- p-value < α: At least one group mean is different.\"\n",
    "    ],\n",
    "    \"Null Hypothesis\": [\n",
    "        \"The variances of the groups are equal.\",\n",
    "        \"The means of the two groups are equal (no difference in means).\",\n",
    "        \"The median difference between paired samples is zero (no change between the two related samples).\",\n",
    "        \"There is no association between the two categorical variables (they are independent).\",\n",
    "        \"The means of all groups are equal (no significant difference between group means).\"\n",
    "    ]\n",
    "}\n",
    "\n",
    "# Create DataFrame\n",
    "df = pd.DataFrame(data)\n",
    "\n",
    "# Save to Excel file\n",
    "df.to_excel(\"statistical_tests_summary.xlsx\", index=False)\n",
    "\n",
    "print(\"Excel file saved as 'statistical_tests_summary.xlsx'\")\n"
   ]
  }
 ],
 "metadata": {
  "kernelspec": {
   "display_name": "CSCN8010_classical_ml_311",
   "language": "python",
   "name": "python3"
  },
  "language_info": {
   "codemirror_mode": {
    "name": "ipython",
    "version": 3
   },
   "file_extension": ".py",
   "mimetype": "text/x-python",
   "name": "python",
   "nbconvert_exporter": "python",
   "pygments_lexer": "ipython3",
   "version": "3.11.0"
  }
 },
 "nbformat": 4,
 "nbformat_minor": 2
}
