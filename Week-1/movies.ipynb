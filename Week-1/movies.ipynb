{
 "cells": [
  {
   "cell_type": "code",
   "execution_count": 6,
   "metadata": {},
   "outputs": [
    {
     "name": "stdout",
     "output_type": "stream",
     "text": [
      "                                  Name  Year                      Genre  \\\n",
      "0   #Gadhvi (He thought he was Gandhi)  2019                      Drama   \n",
      "1                              #Yaaram  2019            Comedy, Romance   \n",
      "2                 ...Aur Pyaar Ho Gaya  1997     Comedy, Drama, Musical   \n",
      "3                            ...Yahaan  2005        Drama, Romance, War   \n",
      "4                   ?: A Question Mark  2012  Horror, Mystery, Thriller   \n",
      "..                                 ...   ...                        ...   \n",
      "95                      Aa Dekhen Zara  2009   Action, Sci-Fi, Thriller   \n",
      "96                     Aa Gale Lag Jaa  1973     Action, Drama, Romance   \n",
      "97                     Aa Gale Lag Jaa  1994           Mystery, Romance   \n",
      "98                        Aa Gaya Hero  2017                     Action   \n",
      "99                       Aa Jao Please  2016                      Drama   \n",
      "\n",
      "    Rating  \n",
      "0      7.0  \n",
      "1      4.4  \n",
      "2      4.7  \n",
      "3      7.4  \n",
      "4      5.6  \n",
      "..     ...  \n",
      "95     5.0  \n",
      "96     7.2  \n",
      "97     4.4  \n",
      "98     2.7  \n",
      "99     6.8  \n",
      "\n",
      "[100 rows x 4 columns]\n"
     ]
    }
   ],
   "source": [
    "import pandas as pd\n",
    "\n",
    "file = \"movies_data.csv\"\n",
    "df_unfiltered = pd.read_csv(file, nrows=100)\n",
    "df = df_unfiltered.dropna(axis=1, how='all')\n",
    "\n",
    "columns_of_interest = ['Name','Year','Genre','Rating']  # Replace with your actual column names\n",
    "df_selected = df[columns_of_interest]\n",
    "\n",
    "\n",
    "print(df_selected)\n"
   ]
  },
  {
   "cell_type": "markdown",
   "metadata": {},
   "source": [
    "### Ratings by Genre\n",
    "\n",
    "#### Mean"
   ]
  },
  {
   "cell_type": "code",
   "execution_count": 7,
   "metadata": {},
   "outputs": [
    {
     "name": "stdout",
     "output_type": "stream",
     "text": [
      "Genre\n",
      "Action                        4.125000\n",
      "Action, Adventure, Comedy     3.000000\n",
      "Action, Adventure, Fantasy    4.600000\n",
      "Action, Biography, Drama      5.300000\n",
      "Action, Comedy                6.350000\n",
      "Action, Crime, Drama          8.100000\n",
      "Action, Crime, Thriller       4.500000\n",
      "Action, Drama, History        6.500000\n",
      "Action, Drama, Romance        7.200000\n",
      "Action, Drama, War            8.100000\n",
      "Action, Fantasy, Mystery      5.400000\n",
      "Action, Sci-Fi                6.200000\n",
      "Action, Sci-Fi, Thriller      5.000000\n",
      "Action, Thriller              6.900000\n",
      "Adventure, Drama              4.300000\n",
      "Adventure, Drama, Mystery     6.600000\n",
      "Adventure, Horror, Mystery    6.800000\n",
      "Biography, Drama, History     5.100000\n",
      "Comedy                        6.166667\n",
      "Comedy, Crime, Drama          7.300000\n",
      "Comedy, Drama                 7.033333\n",
      "Comedy, Drama, Musical        4.700000\n",
      "Comedy, Drama, Romance        6.300000\n",
      "Comedy, Horror                6.600000\n",
      "Comedy, Mystery, Thriller     5.700000\n",
      "Comedy, Romance               4.666667\n",
      "Crime, Drama                  6.300000\n",
      "Crime, Drama, Mystery         7.200000\n",
      "Crime, Mystery, Thriller      3.500000\n",
      "Crime, Thriller               5.700000\n",
      "Documentary                   6.200000\n",
      "Drama                         6.575000\n",
      "Drama, Family, Musical        7.800000\n",
      "Drama, History                7.700000\n",
      "Drama, Horror, Musical        4.100000\n",
      "Drama, Horror, Mystery        7.300000\n",
      "Drama, Horror, Romance        4.650000\n",
      "Drama, Mystery, Thriller      6.700000\n",
      "Drama, Romance                6.433333\n",
      "Drama, Romance, War           7.400000\n",
      "Drama, Thriller               7.500000\n",
      "Horror                        5.500000\n",
      "Horror, Mystery               5.450000\n",
      "Horror, Mystery, Romance      5.450000\n",
      "Horror, Mystery, Thriller     5.600000\n",
      "Horror, Romance               5.000000\n",
      "Horror, Romance, Thriller     6.500000\n",
      "Horror, Sci-Fi, Thriller      3.600000\n",
      "Horror, Thriller              4.400000\n",
      "Musical, Romance              7.400000\n",
      "Musical, Romance, Drama       5.500000\n",
      "Mystery, Romance              4.400000\n",
      "Mystery, Thriller             4.700000\n",
      "Romance                       6.000000\n",
      "Sport                         6.100000\n",
      "Thriller                      4.840000\n",
      "Name: Rating, dtype: float64\n"
     ]
    }
   ],
   "source": [
    "mean_ratings = df_selected.groupby('Genre')['Rating'].mean()\n",
    "print(mean_ratings)"
   ]
  },
  {
   "cell_type": "markdown",
   "metadata": {},
   "source": [
    "#### Median "
   ]
  },
  {
   "cell_type": "code",
   "execution_count": 9,
   "metadata": {},
   "outputs": [
    {
     "name": "stdout",
     "output_type": "stream",
     "text": [
      "Genre\n",
      "Action                        4.25\n",
      "Action, Adventure, Comedy     3.00\n",
      "Action, Adventure, Fantasy    4.60\n",
      "Action, Biography, Drama      5.30\n",
      "Action, Comedy                6.35\n",
      "Action, Crime, Drama          8.10\n",
      "Action, Crime, Thriller       4.50\n",
      "Action, Drama, History        6.50\n",
      "Action, Drama, Romance        7.20\n",
      "Action, Drama, War            8.10\n",
      "Action, Fantasy, Mystery      5.40\n",
      "Action, Sci-Fi                6.20\n",
      "Action, Sci-Fi, Thriller      5.00\n",
      "Action, Thriller              6.90\n",
      "Adventure, Drama              4.30\n",
      "Adventure, Drama, Mystery     6.60\n",
      "Adventure, Horror, Mystery    6.80\n",
      "Biography, Drama, History     5.10\n",
      "Comedy                        6.10\n",
      "Comedy, Crime, Drama          7.30\n",
      "Comedy, Drama                 7.40\n",
      "Comedy, Drama, Musical        4.70\n",
      "Comedy, Drama, Romance        6.30\n",
      "Comedy, Horror                6.60\n",
      "Comedy, Mystery, Thriller     5.70\n",
      "Comedy, Romance               4.40\n",
      "Crime, Drama                  6.30\n",
      "Crime, Drama, Mystery         7.20\n",
      "Crime, Mystery, Thriller      3.50\n",
      "Crime, Thriller               5.70\n",
      "Documentary                   6.20\n",
      "Drama                         6.85\n",
      "Drama, Family, Musical        7.80\n",
      "Drama, History                7.70\n",
      "Drama, Horror, Musical        4.10\n",
      "Drama, Horror, Mystery        7.30\n",
      "Drama, Horror, Romance        4.65\n",
      "Drama, Mystery, Thriller      6.70\n",
      "Drama, Romance                7.50\n",
      "Drama, Romance, War           7.40\n",
      "Drama, Thriller               7.50\n",
      "Horror                        5.75\n",
      "Horror, Mystery               5.45\n",
      "Horror, Mystery, Romance      5.45\n",
      "Horror, Mystery, Thriller     5.60\n",
      "Horror, Romance               5.00\n",
      "Horror, Romance, Thriller     6.50\n",
      "Horror, Sci-Fi, Thriller      3.60\n",
      "Horror, Thriller              4.40\n",
      "Musical, Romance              7.40\n",
      "Musical, Romance, Drama       5.50\n",
      "Mystery, Romance              4.40\n",
      "Mystery, Thriller             4.70\n",
      "Romance                       6.00\n",
      "Sport                         6.10\n",
      "Thriller                      5.30\n",
      "Name: Rating, dtype: float64\n"
     ]
    }
   ],
   "source": [
    "median_ratings = df_selected.groupby('Genre')['Rating'].median()\n",
    "print(median_ratings)"
   ]
  },
  {
   "cell_type": "markdown",
   "metadata": {},
   "source": [
    "#### Mode"
   ]
  },
  {
   "cell_type": "code",
   "execution_count": 12,
   "metadata": {},
   "outputs": [
    {
     "name": "stdout",
     "output_type": "stream",
     "text": [
      "Genre\n",
      "Action                        2.7\n",
      "Action, Adventure, Comedy     3.0\n",
      "Action, Adventure, Fantasy    4.6\n",
      "Action, Biography, Drama      5.3\n",
      "Action, Comedy                6.2\n",
      "Action, Crime, Drama          8.1\n",
      "Action, Crime, Thriller       4.0\n",
      "Action, Drama, History        5.8\n",
      "Action, Drama, Romance        7.2\n",
      "Action, Drama, War            8.1\n",
      "Action, Fantasy, Mystery      5.4\n",
      "Action, Sci-Fi                6.2\n",
      "Action, Sci-Fi, Thriller      5.0\n",
      "Action, Thriller              6.9\n",
      "Adventure, Drama              4.3\n",
      "Adventure, Drama, Mystery     6.6\n",
      "Adventure, Horror, Mystery    6.8\n",
      "Biography, Drama, History     5.1\n",
      "Comedy                        5.5\n",
      "Comedy, Crime, Drama          7.3\n",
      "Comedy, Drama                 5.3\n",
      "Comedy, Drama, Musical        4.7\n",
      "Comedy, Drama, Romance        5.7\n",
      "Comedy, Horror                6.6\n",
      "Comedy, Mystery, Thriller     5.7\n",
      "Comedy, Romance               3.3\n",
      "Crime, Drama                  4.8\n",
      "Crime, Drama, Mystery         7.2\n",
      "Crime, Mystery, Thriller      3.5\n",
      "Crime, Thriller               5.7\n",
      "Documentary                   6.2\n",
      "Drama                         5.6\n",
      "Drama, Family, Musical        7.8\n",
      "Drama, History                7.7\n",
      "Drama, Horror, Musical        4.1\n",
      "Drama, Horror, Mystery        7.3\n",
      "Drama, Horror, Romance        4.5\n",
      "Drama, Mystery, Thriller      6.1\n",
      "Drama, Romance                3.8\n",
      "Drama, Romance, War           7.4\n",
      "Drama, Thriller               7.5\n",
      "Horror                        4.2\n",
      "Horror, Mystery               4.1\n",
      "Horror, Mystery, Romance      4.5\n",
      "Horror, Mystery, Thriller     5.6\n",
      "Horror, Romance               5.0\n",
      "Horror, Romance, Thriller     6.5\n",
      "Horror, Sci-Fi, Thriller      3.6\n",
      "Horror, Thriller              4.4\n",
      "Musical, Romance              7.4\n",
      "Musical, Romance, Drama       5.5\n",
      "Mystery, Romance              4.4\n",
      "Mystery, Thriller             4.7\n",
      "Romance                       6.0\n",
      "Sport                         6.1\n",
      "Thriller                      3.1\n",
      "Name: Rating, dtype: float64\n"
     ]
    }
   ],
   "source": [
    "mode_ratings = df_selected.groupby('Genre')['Rating'].apply(lambda x: x.mode()[0])\n",
    "print(mode_ratings)"
   ]
  },
  {
   "cell_type": "markdown",
   "metadata": {},
   "source": []
  }
 ],
 "metadata": {
  "kernelspec": {
   "display_name": "CSCN8010_classical_ml_311",
   "language": "python",
   "name": "python3"
  },
  "language_info": {
   "codemirror_mode": {
    "name": "ipython",
    "version": 3
   },
   "file_extension": ".py",
   "mimetype": "text/x-python",
   "name": "python",
   "nbconvert_exporter": "python",
   "pygments_lexer": "ipython3",
   "version": "3.11.0"
  }
 },
 "nbformat": 4,
 "nbformat_minor": 2
}
