{
 "cells": [
  {
   "cell_type": "markdown",
   "metadata": {},
   "source": [
    "# Data Analysis Mathematics, Algorithms and Modeling\n",
    "\n",
    "## Team - 4 - Problem Analysis Workshop 1\n",
    "\n",
    "**Team Members**\n",
    "\n",
    "| Name            | Student Number |\n",
    "|-----------------|----------------|\n",
    "| Ayush Patel     | 9033358        |\n",
    "| Nikhil Shankar  | 9026254        |\n",
    "| Sreehari Prathap| 8903199        |"
   ]
  },
  {
   "cell_type": "markdown",
   "metadata": {},
   "source": []
  }
 ],
 "metadata": {
  "language_info": {
   "name": "python"
  }
 },
 "nbformat": 4,
 "nbformat_minor": 2
}
