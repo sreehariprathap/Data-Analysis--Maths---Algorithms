{
 "cells": [
  {
   "cell_type": "markdown",
   "metadata": {},
   "source": [
    "# Data Analysis Mathematics, Algorithms and Modeling\n",
    "\n",
    "## Team Information - Problem Analysis Workshop 1\n",
    "\n",
    "**Team Members**\n",
    "\n",
    "| Name            | Student Number |\n",
    "|-----------------|----------------|\n",
    "| Ayush Patel     | 9033358        |\n",
    "| Nikhil Shankar  | 9026254        |\n",
    "| Sreehari Prathap| 8903199        |"
   ]
  },
  {
   "cell_type": "markdown",
   "metadata": {},
   "source": [
    "## Step 1: Install and Configure the IDE (e.g., Jupyter Notebook and VS Code)\n",
    "- Install Anaconda (for Jupyter Notebook) and Visual Studio Code (VS Code).\n",
    "  - Anaconda: Visit [anaconda.com](https://www.anaconda.com/products/individual) and download the appropriate installer for your operating system.\n",
    "  - VS Code: Download and install from [Visual Studio Code](https://code.visualstudio.com/)."
   ]
  },
  {
   "cell_type": "markdown",
   "metadata": {},
   "source": [
    "### Challenge \n",
    "\n",
    "#### Amazon Recruitment Automation And Gender Bias Case Study\n",
    "\n",
    "In 2015 Amazon found out a serious issue with the automated tool used in recruitment. The tool was designed to filter and rank the resumes based on job requirements. To train their model Amazon relied on previous decade data consisting of the resumes that were submitted, the corresponding job descriptions and the subset of resumes that were finally hired. The model was giving undue advantage for male applicants over females especially for the technical positions due to the inherent bias historically. This resulted in the model giving higher priority for resumes in the male perspective than the female one.\n",
    "\n",
    "**References**\n",
    "- *[Reuters]\n",
    "(https://www.reuters.com/article/us-amazon-com-jobs-automation-insight-idUSKCN1MK08G/)*\n",
    "- *[Global Headcount]\n",
    "(https://fingfx.thomsonreuters.com/gfx/rngs/AMAZON.COM-JOBS-AUTOMATION/010080Q91F6/index.html)*"
   ]
  },
  {
   "cell_type": "markdown",
   "metadata": {},
   "source": [
    "## Step 2: Downloading the Dataset\n",
    "We are using the Utrecht Fairness Recruitment dataset from [Kaggle], which can be downloaded directly via the link:\n",
    "- URL: [https://www.kaggle.com/datasets/ictinstitute/utrecht-fairness-recruitment-dataset]"
   ]
  },
  {
   "cell_type": "markdown",
   "metadata": {},
   "source": []
  }
 ],
 "metadata": {
  "language_info": {
   "name": "python"
  }
 },
 "nbformat": 4,
 "nbformat_minor": 2
}
