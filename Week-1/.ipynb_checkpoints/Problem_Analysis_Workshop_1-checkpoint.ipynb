{
 "cells": [
  {
   "cell_type": "markdown",
   "metadata": {},
   "source": [
    "# Data Analysis Mathematics, Algorithms and Modeling\n",
    "\n",
    "## Team Information - Problem Analysis Workshop 1\n",
    "\n",
    "**Team Members**\n",
    "\n",
    "| Name            | Student Number |\n",
    "|-----------------|----------------|\n",
    "| Ayush Patel     | 9033358        |\n",
    "| Nikhil Shankar  | 9026254        |\n",
    "| Sreehari Prathap| 8903199        |"
   ]
  },
  {
   "cell_type": "markdown",
   "metadata": {},
   "source": [
    "### Challenge \n",
    "\n",
    "### Field Of Inquiry - Talent Acquisition\n",
    "#### Amazon Recruitment Automation And Gender Bias Case Study\n",
    "\n",
    "In 2015 Amazon found out a serious issue with the automated tool used in recruitment. The tool was designed to filter and rank the resumes based on job requirements. To train their model Amazon relied on previous decade data consisting of the resumes that were submitted, the corresponding job descriptions and the subset of resumes that were finally hired. The model was giving undue advantage for male applicants over females especially for the technical positions due to the inherent bias historically. This resulted in the model giving higher priority for resumes in the male perspective than the female one.\n",
    "\n",
    "#### How can we track it?\n",
    "In this context, tracking the bias in the automated recruitment tool is crucial. Monitoring its performance and ensuring that it doesn't favor male applicants over female applicants or any other demographic group is essential. Tracking would involve evaluating the model’s output, analyzing the impact of changes made to the model, and ensuring fairness across different gender, racial, and socioeconomic groups.\n",
    "\n",
    "**References**\n",
    "- *[Reuters]\n",
    "(https://www.reuters.com/article/us-amazon-com-jobs-automation-insight-idUSKCN1MK08G/)*\n",
    "- *[Global Headcount]\n",
    "(https://fingfx.thomsonreuters.com/gfx/rngs/AMAZON.COM-JOBS-AUTOMATION/010080Q91F6/index.html)*"
   ]
  },
  {
   "cell_type": "markdown",
   "metadata": {},
   "source": [
    "## Step 1: Install and Configure the IDE (e.g., Jupyter Notebook and VS Code)\n",
    "- Install Anaconda (for Jupyter Notebook) and Visual Studio Code (VS Code).\n",
    "  - Anaconda: Visit [anaconda.com](https://www.anaconda.com/products/individual) and download the appropriate installer for your operating system.\n",
    "  - VS Code: Download and install from [Visual Studio Code](https://code.visualstudio.com/).\n",
    "- Install Pandas Library\n",
    "  - Open the terminal and run the following command: `pip install pandas`"
   ]
  },
  {
   "cell_type": "markdown",
   "metadata": {},
   "source": [
    "## Step 2: Downloading the Dataset\n",
    "We are using the Utrecht Fairness Recruitment dataset from [Kaggle], which can be downloaded directly via the link:\n",
    "- URL: [https://www.kaggle.com/datasets/ictinstitute/utrecht-fairness-recruitment-dataset]\n",
    "\n",
    "### Displaying the csv file using python\n",
    "Import panda to read the dataset in csv format"
   ]
  },
  {
   "cell_type": "code",
   "execution_count": 7,
   "metadata": {},
   "outputs": [],
   "source": [
    "import pandas as pd"
   ]
  },
  {
   "cell_type": "markdown",
   "metadata": {},
   "source": [
    "Read the csv file using panda\n",
    "The parameter \"**nrows**\" is used to read only the first n rows since this is a large dataset."
   ]
  },
  {
   "cell_type": "code",
   "execution_count": 8,
   "metadata": {},
   "outputs": [],
   "source": [
    "file = \"recruitmentdataset-2022-1.3.csv\"\n",
    "df = pd.read_csv(file, nrows=10)"
   ]
  },
  {
   "cell_type": "markdown",
   "metadata": {},
   "source": [
    "There are 15 columns in the csv and for display purpose we use only 6 of them"
   ]
  },
  {
   "cell_type": "code",
   "execution_count": 9,
   "metadata": {},
   "outputs": [
    {
     "name": "stdout",
     "output_type": "stream",
     "text": [
      "       Id  gender  age  ... ind-degree company  decision\n",
      "0  x8011e  female   24  ...        phd       A      True\n",
      "1  x6077a    male   26  ...   bachelor       A     False\n",
      "2  x6006e  female   23  ...     master       A     False\n",
      "3  x2173b    male   24  ...     master       A      True\n",
      "4  x6241a  female   26  ...     master       A      True\n",
      "5  x9063d  female   26  ...   bachelor       A      True\n",
      "6  x5785d  female   27  ...   bachelor       A     False\n",
      "7  x8767c  female   22  ...     master       A      True\n",
      "8  x6541b  female   28  ...   bachelor       A     False\n",
      "9  x3890b    male   24  ...     master       A      True\n",
      "\n",
      "[10 rows x 15 columns]\n"
     ]
    }
   ],
   "source": [
    "pd.options.display.max_columns = 6\n",
    "print(df)"
   ]
  },
  {
   "cell_type": "markdown",
   "metadata": {},
   "source": [
    "## Step 3 : Data Cleansing\n",
    "\n",
    "### Data Cleansing Process for User Data (Talent Acquisition) from a CSV File\n",
    "\n",
    "Before analyzing user data for talent acquisition, it is essential to clean the data for accuracy and consistency. The key actions for data cleansing include:\n",
    "\n",
    "1. **Import the Data**: Load the CSV file containing user information into your data analysis tool (e.g., Excel, Python, or SQL).\n",
    "\n",
    "2. **Merge Data Sets**: If user data comes from multiple sources, ensure it's combined into a consistent format for further analysis.\n",
    "\n",
    "3. **Remove Duplicates**: Identify and remove duplicate entries based on unique identifiers like email addresses or phone numbers.\n",
    "\n",
    "4. **Standardize Data**: Clean up inconsistencies like extra spaces, incorrect capitalization, or formatting issues (e.g., \"Mr.\" instead of \"mister\").\n",
    "\n",
    "5. **Handle Missing Data**: Fill in missing values where possible or remove rows with incomplete critical data fields.\n",
    "\n",
    "6. **Validate Key Fields**: Ensure fields like phone numbers, emails, and addresses follow a standard format for consistency.\n",
    "\n"
   ]
  }
 ],
 "metadata": {
  "kernelspec": {
   "display_name": "CSCN8010_classical_ml_311",
   "language": "python",
   "name": "python3"
  },
  "language_info": {
   "codemirror_mode": {
    "name": "ipython",
    "version": 3
   },
   "file_extension": ".py",
   "mimetype": "text/x-python",
   "name": "python",
   "nbconvert_exporter": "python",
   "pygments_lexer": "ipython3",
   "version": "3.11.0"
  }
 },
 "nbformat": 4,
 "nbformat_minor": 2
}
